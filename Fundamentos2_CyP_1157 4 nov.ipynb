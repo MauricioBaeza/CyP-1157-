{
  "nbformat": 4,
  "nbformat_minor": 0,
  "metadata": {
    "colab": {
      "name": "Fundamentos2 CyP 1157.ipynb",
      "provenance": []
    },
    "kernelspec": {
      "name": "python3",
      "display_name": "Python 3"
    },
    "language_info": {
      "name": "python"
    }
  },
  "cells": [
    {
      "cell_type": "markdown",
      "metadata": {
        "id": "sRAC1t7fFeu1"
      },
      "source": [
        "# Tipos de datos estructurados de phyton\n",
        "\n",
        "\n",
        "1. Listas\n",
        "2. Tuplas\n",
        "3. Diccionarios\n",
        "4. Conjuntos (opcional)"
      ]
    },
    {
      "cell_type": "markdown",
      "metadata": {
        "id": "8fVrsD5vFrJj"
      },
      "source": [
        "# Listas\n",
        "\n",
        "- Tipo de dato que agrupa variables o valores.\n",
        "- Estructura secuencial (indexados empezando por 0)\n",
        "- Se declara de dos formas\n",
        "  - Usando [ ]\n",
        "  - Usando list ( )\n",
        "  - Usando generador\n",
        "- Puede contener tipos de datos diversos (En otros lenguajes de prog. no es posible de forma directa)\n",
        "- Los elementos internos se seleccionan con [ ]\n",
        "- Soporta slicing\n",
        "- SON MUTABLES\n",
        "- GENERADORES [var for x in range( 10 )]\n",
        "- Al ser una clase contiene muchos metodos utiles"
      ]
    },
    {
      "cell_type": "code",
      "metadata": {
        "colab": {
          "base_uri": "https://localhost:8080/"
        },
        "id": "SnbXjfEOGccz",
        "outputId": "68f9a8ab-8a7d-4e97-a650-9816af2b1296"
      },
      "source": [
        "numeros= [10, 5, 2, 3, 1]\n",
        "print(numeros)\n",
        "\n",
        "numeros2= list()\n",
        "numeros2.append(10)\n",
        "numeros2.append(5)\n",
        "numeros2.append(2)\n",
        "numeros2.append(3)\n",
        "numeros2.append(1)\n",
        "print(numeros2)\n",
        "#para cambiar un numero por otro se hace lo siguiente:\n",
        "numeros[2] = 20\n",
        "print(numeros)\n",
        "numeros[-1] = 33\n",
        "print(numeros)\n",
        "numeros.append(88)\n",
        "print(numeros)"
      ],
      "execution_count": null,
      "outputs": [
        {
          "output_type": "stream",
          "name": "stdout",
          "text": [
            "[10, 5, 2, 3, 1]\n",
            "[10, 5, 2, 3, 1]\n",
            "[10, 5, 20, 3, 1]\n",
            "[10, 5, 20, 3, 33]\n",
            "[10, 5, 20, 3, 33, 88]\n"
          ]
        }
      ]
    },
    {
      "cell_type": "code",
      "metadata": {
        "colab": {
          "base_uri": "https://localhost:8080/"
        },
        "id": "AWWz566FIe1S",
        "outputId": "2b29bb39-0eb6-4d59-e975-660932291a97"
      },
      "source": [
        "#Tipos diversos\n",
        "\n",
        "cosas = [12, 2 , True , \"Jose\" , 1.57 , [\"pera\" , \"kiwi\" , \"uva\"]]\n",
        "print(cosas)\n",
        "print(cosas[1] )\n",
        "print(cosas[ 4 ] )\n",
        "print(cosas[5][1] )\n",
        "print(cosas[3][1:3:] )\n",
        "cosas[3] = cosas[3].upper()\n",
        "print(cosas)"
      ],
      "execution_count": null,
      "outputs": [
        {
          "output_type": "stream",
          "name": "stdout",
          "text": [
            "[12, 2, True, 'Jose', 1.57, ['pera', 'kiwi', 'uva']]\n",
            "2\n",
            "1.57\n",
            "kiwi\n",
            "os\n",
            "[12, 2, True, 'JOSE', 1.57, ['pera', 'kiwi', 'uva']]\n"
          ]
        }
      ]
    },
    {
      "cell_type": "code",
      "metadata": {
        "colab": {
          "base_uri": "https://localhost:8080/"
        },
        "id": "hOpyS0QnL2-Z",
        "outputId": "e5a59f30-b2a0-4b49-f66d-3f3bb770a5c1"
      },
      "source": [
        "numeros = [1,2,3,4,5,6,7,8,9,10,11]\n",
        "print(numeros)\n",
        "# silcing\n",
        "# 1. 4 al 8????\n",
        "print(numeros[3:8] )\n",
        "# 2. [9,10]\n",
        "print(numeros[8:10])\n",
        "print(numeros[-3:-1:] )\n",
        "# 3. Imprimir la lista en orden inverso [11,10,9,etc.]\n",
        "print(numeros[::-1])"
      ],
      "execution_count": null,
      "outputs": [
        {
          "output_type": "stream",
          "name": "stdout",
          "text": [
            "[1, 2, 3, 4, 5, 6, 7, 8, 9, 10, 11]\n",
            "[4, 5, 6, 7, 8]\n",
            "[9, 10]\n",
            "[9, 10]\n",
            "[11, 10, 9, 8, 7, 6, 5, 4, 3, 2, 1]\n"
          ]
        }
      ]
    },
    {
      "cell_type": "code",
      "metadata": {
        "id": "XpI_KmPMPngJ"
      },
      "source": [
        "#crear una lista con un generador\n",
        "numeros = [ x*3 for x in range (101)]#el numero final no se incluye por eso 101\n",
        "print(numeros)"
      ],
      "execution_count": null,
      "outputs": []
    },
    {
      "cell_type": "markdown",
      "metadata": {
        "id": "cNbJzyJ0QZ-B"
      },
      "source": [
        "#funcion range ()\n",
        "\n",
        "Tiene los mismos componentes que slicing ini, stop, incremento\n",
        "\n",
        "range(1,101,1)"
      ]
    },
    {
      "cell_type": "code",
      "metadata": {
        "colab": {
          "base_uri": "https://localhost:8080/"
        },
        "id": "OPd--7I_QlCq",
        "outputId": "dad37161-e80f-4d6c-dc10-f85974940ea7"
      },
      "source": [
        "numeros = [ x for x in range(50,101)]\n",
        "print(numeros)"
      ],
      "execution_count": null,
      "outputs": [
        {
          "output_type": "stream",
          "name": "stdout",
          "text": [
            "[50, 51, 52, 53, 54, 55, 56, 57, 58, 59, 60, 61, 62, 63, 64, 65, 66, 67, 68, 69, 70, 71, 72, 73, 74, 75, 76, 77, 78, 79, 80, 81, 82, 83, 84, 85, 86, 87, 88, 89, 90, 91, 92, 93, 94, 95, 96, 97, 98, 99, 100]\n"
          ]
        }
      ]
    },
    {
      "cell_type": "markdown",
      "metadata": {
        "id": "2RxPn5EpRNow"
      },
      "source": [
        "# METODOS DISPONIBLES DE LAS LISTAS"
      ]
    },
    {
      "cell_type": "code",
      "metadata": {
        "id": "NnvBPOOnRQZa"
      },
      "source": [
        ""
      ],
      "execution_count": null,
      "outputs": []
    },
    {
      "cell_type": "code",
      "metadata": {
        "colab": {
          "base_uri": "https://localhost:8080/"
        },
        "id": "mBms8VflSshA",
        "outputId": "3c5ddbf8-4866-41b3-b2e2-5170c296b9ce"
      },
      "source": [
        "numeros = [4,1,15,8,22,34,50]\n",
        "print(numeros)\n",
        "numeros.append(99)\n",
        "print(numeros)\n",
        "#numeros.clear()\n",
        "print(numeros)\n",
        "#alternativa numeros=[] pero de preferencia con clear\n",
        "\n",
        "frutas = [ \"uvas\" , \"kiwi\" , \"manzana\" ]\n",
        "copia = frutas\n",
        "print(frutas)\n",
        "print(copia)\n",
        "frutas.append(\"naranja\") \n",
        "print(frutas)\n",
        "print(copia)\n",
        "\n",
        "colores = [ \"rojo\" , \"azul\" , \"blanco\" ]\n",
        "copia2 = colores.copy()\n",
        "print(colores)\n",
        "print(copia2)\n",
        "colores.append(\"verde\")\n",
        "print(colores)\n",
        "print(copia2)\n",
        "\n",
        "print(\"numero de veces que aparece el 15=\", numeros.count(15))\n",
        "\n",
        "#extend\n",
        "\n",
        "nombres = [\"Jose\",\"Pedro\", \"karina\"]\n",
        "otrosNombres = [\"Josue\",\"diana\",\"dalia\"]\n",
        "print(nombres)\n",
        "print(otrosNombres)\n",
        "nombres= nombres + otrosNombres\n",
        "\n",
        "print(nombres)\n",
        "print(otrosNombres)\n",
        "\n",
        "#Lo mismo con el metodo extend\n",
        "otrosNombres.extend ( [\"Jesus\",\"maria\",\"jose\"])\n",
        "print(otrosNombres)\n",
        "print(\"Jesus esta en la posicion:\", otrosNombres.index(\"Jesus\")) \n",
        "#index es para buscar donde esta un valor\n",
        "otrosNombres.insert(4, \"Espiritu santo\")\n",
        "#insert para insertar un valor en una posicion \n",
        "print(otrosNombres)\n",
        "\n",
        "#pop\n",
        "resultado = otrosNombres.pop ()\n",
        "#pop saca el ultimo valor de la variable\n",
        "print(otrosNombres)\n",
        "print(resultado)"
      ],
      "execution_count": null,
      "outputs": [
        {
          "output_type": "stream",
          "name": "stdout",
          "text": [
            "[4, 1, 15, 8, 22, 34, 50]\n",
            "[4, 1, 15, 8, 22, 34, 50, 99]\n",
            "[4, 1, 15, 8, 22, 34, 50, 99]\n",
            "['uvas', 'kiwi', 'manzana']\n",
            "['uvas', 'kiwi', 'manzana']\n",
            "['uvas', 'kiwi', 'manzana', 'naranja']\n",
            "['uvas', 'kiwi', 'manzana', 'naranja']\n",
            "['rojo', 'azul', 'blanco']\n",
            "['rojo', 'azul', 'blanco']\n",
            "['rojo', 'azul', 'blanco', 'verde']\n",
            "['rojo', 'azul', 'blanco']\n",
            "numero de veces que aparece el 15= 1\n",
            "['Jose', 'Pedro', 'karina']\n",
            "['Josue', 'diana', 'dalia']\n",
            "['Jose', 'Pedro', 'karina', 'Josue', 'diana', 'dalia']\n",
            "['Josue', 'diana', 'dalia']\n",
            "['Josue', 'diana', 'dalia', 'Jesus', 'maria', 'jose']\n",
            "Jesus esta en la posicion: 3\n",
            "['Josue', 'diana', 'dalia', 'Jesus', 'Espiritu santo', 'maria', 'jose']\n",
            "['Josue', 'diana', 'dalia', 'Jesus', 'Espiritu santo', 'maria']\n",
            "jose\n"
          ]
        }
      ]
    }
  ]
}