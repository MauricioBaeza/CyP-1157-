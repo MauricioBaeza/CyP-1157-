{
  "nbformat": 4,
  "nbformat_minor": 0,
  "metadata": {
    "colab": {
      "name": "Fundamentos CyP.ipynb",
      "provenance": []
    },
    "kernelspec": {
      "name": "python3",
      "display_name": "Python 3"
    },
    "language_info": {
      "name": "python"
    }
  },
  "cells": [
    {
      "cell_type": "code",
      "metadata": {
        "id": "TyEbty8lzRLF"
      },
      "source": [
        "!git clone https://github.com/MauricioBaeza/CyP-1157-.git"
      ],
      "execution_count": null,
      "outputs": []
    },
    {
      "cell_type": "code",
      "metadata": {
        "colab": {
          "base_uri": "https://localhost:8080/"
        },
        "id": "4Cm1yQ-zwnQ9",
        "outputId": "15655d7c-d591-4375-d314-4916f085f219"
      },
      "source": [
        "nombre = 'Mauricio'  #Tipo de dato string (cadena de caracteres)\n",
        "\n",
        "print (nombre)"
      ],
      "execution_count": null,
      "outputs": [
        {
          "output_type": "stream",
          "name": "stdout",
          "text": [
            "Mauricio\n"
          ]
        }
      ]
    },
    {
      "cell_type": "markdown",
      "metadata": {
        "id": "rMefxH-MwsqJ"
      },
      "source": [
        "# Tipos de datos en Phyton\n",
        "\n",
        "### Tipos simples \n",
        "- str --> string cadena de caracteres. \n",
        "- int --> Numeros enteros\n",
        "- float --> Numeros con notacion de punto flotante\n",
        "- complex --> Numeros Complejos \n",
        "- bool --> Boleano (True or False)\n",
        "- byte --> 8 bits\n",
        "\n",
        "### Tipos de datos estructurados (compuestos)\n",
        "- list --> Listas(Arreglos en otros leng)\n",
        "- tuple --> Listas no mutables\n",
        "- dict --> Diccionarios\n",
        "- set y frozenset --> Conjuntos\n"
      ]
    },
    {
      "cell_type": "code",
      "metadata": {
        "colab": {
          "base_uri": "https://localhost:8080/"
        },
        "id": "oQxp1ZVHwwCr",
        "outputId": "889fe987-0985-428f-fc9d-eff5dd07d2a6"
      },
      "source": [
        "import sys\n",
        "\n",
        "edad = 19\n",
        "print (\"Tu edad es:\",edad) #Al final de una linea de codigo  \n",
        "#este es un comentario de linea simple\n",
        "\n",
        "\"\"\"\n",
        "Comentario de multiple linea\n",
        "En lenguaje C, C++ y Java es el comentario de multiple linea es con\n",
        "/*  .....  */\n",
        "\n",
        "En lenguaje C,C++ y Java el comentario de una sola linea es con\n",
        "//\n",
        "\n",
        "Aqui puedes explicar en prosa el segmento de un codigo para futura revision\n",
        "\n",
        "\"\"\"\n",
        "# tipos de datos numericos int y float\n",
        "\n",
        "print (sys.getsizeof(edad))\n",
        "# el tipo de dato INT utiliza diferente cantidad de bits segun el lenguaje de prog. \n",
        "# por ejemplo en c utiliza 16 bis.\n",
        "\n",
        "edad=edad + 1\n",
        "print (edad)\n",
        "\n",
        "estatura = 1.56\n",
        "print( estatura )\n",
        "print( sys.getsizeof(estatura))\n",
        "estatura= estatura +0.1\n",
        "print(estatura)\n",
        "print(round(estatura,2))\n",
        "\n",
        "edad += 1  #edad = edad +1 \n",
        "print(\"Tu edad es:\",edad)\n",
        "\n",
        "edad -= 1  #edad = edad -1 \n",
        "print(\"Tu edad es:\",edad)\n",
        "\n",
        "edad += 1  # vuelve a 21\n",
        "edad /= 2  #edad = edad /2 \n",
        "print(\"La mitad de tu edad es:\",edad)\n",
        "\n",
        "edad=21\n",
        "#volver a calcular la mitad de la edad pero solo dejar la parte entera\n",
        "edad = edad // 2 # para que te de numeros enteros se ocupa \"//\"\n",
        "print(\"La mitad de tu edad es:\",edad)\n",
        "\n",
        "#En la mayoria de los lenguajes no permite operaciones entre diferentes tipos\n",
        "#de datos, en phyton no es el caso\n",
        "\n",
        "numero = edad / 2.0\n",
        "print(numero)\n",
        "\n",
        "numero *=3  #numero= numero * 3\n",
        "print(numero)\n",
        "\n",
        "numero = 5.0\n",
        "numero **= 2 #numero= numero **2 (solo phyton)\n",
        "print(numero)\n",
        "\n",
        "#operador modulo \n",
        "numero = 21\n",
        "print(numero / 2)\n",
        "print(numero // 2)\n",
        "\n",
        "#el operador modulo da el residuo de una divison entera\n",
        "print(numero %2)\n",
        "\n",
        "numero=24\n",
        "print(\"Residuo de 24/5:\",numero %5)\n",
        "\n",
        "#operadores relacionales (logicos)\n",
        "print(\"24 es par\",numero %2 == 0)\n",
        "\n",
        "#diferencia\n",
        "print(\"24 es diferente de 23\",numero != 23) \n",
        "print(\"24 es mayor que 23\",numero > 23)\n",
        "print(\"24 es menor que 23\",numero < 23)\n",
        "\n",
        "print(\"24 es mayor o igual que 24\",numero >= 24)\n",
        "print(\"24 es menor o igual que 23\",numero < 23)\n",
        "\n",
        "print(\"El tipo de dato de la variable numero es:\", type(numero))\n",
        "print(\"El tipo de dato de la variable numero / 2.0 es:\", type(numero/2.0))"
      ],
      "execution_count": null,
      "outputs": [
        {
          "output_type": "stream",
          "name": "stdout",
          "text": [
            "Tu edad es: 19\n",
            "28\n",
            "20\n",
            "1.56\n",
            "24\n",
            "1.6600000000000001\n",
            "1.66\n",
            "Tu edad es: 21\n",
            "Tu edad es: 20\n",
            "La mitad de tu edad es: 10.5\n",
            "La mitad de tu edad es: 10\n",
            "5.0\n",
            "15.0\n",
            "25.0\n",
            "10.5\n",
            "10\n",
            "1\n",
            "Residuo de 24/5: 4\n",
            "24 es par True\n",
            "24 es diferente de 23 True\n",
            "24 es mayor que 23 True\n",
            "24 es menor que 23 False\n",
            "24 es mayor o igual que 24 True\n",
            "24 es menor o igual que 23 False\n",
            "El tipo de dato de la variable numero es: <class 'int'>\n",
            "El tipo de dato de la variable numero / 2.0 es: <class 'float'>\n"
          ]
        }
      ]
    },
    {
      "cell_type": "markdown",
      "metadata": {
        "id": "tD_SnOvzw_TK"
      },
      "source": [
        "# tipo de dato String (str) en Phyton\n",
        "\n",
        "- Se maneja como un arreglo (tipo de dato compuesto)\n",
        "- Se puede acceder a los elementos de el string por medio del indice del caracter.\n",
        "- Mutable\n",
        "- Tiene metodos utiles (potentes)\n",
        "- slicing"
      ]
    },
    {
      "cell_type": "code",
      "metadata": {
        "colab": {
          "base_uri": "https://localhost:8080/"
        },
        "id": "zRJC5Q3-xCnT",
        "outputId": "50016cda-f31c-423b-bc78-881402282e0d"
      },
      "source": [
        "nombre = 'jose'\n",
        "carrera = \"ingenieria en computacion\"\n",
        "frase = \"\"\" El conocimiento \n",
        "me persigue,....\n",
        "pero\n",
        "yo soy mas rapido\n",
        "\"\"\"\n",
        "#cuando son solo una palabra se recomienda con comilla simple''\n",
        "#\"\" para cuando son muchas palabras y \"\"\" cuando son muchas lineas\n",
        "\n",
        "print(nombre)\n",
        "print(carrera)\n",
        "print(frase)\n",
        "\n",
        "# La funcion Type de Phyton te lo devuelve el tipo de dato de una variable\n",
        "print(type(nombre))\n",
        "\n",
        "paterno= str('Perez')\n",
        "print(paterno)"
      ],
      "execution_count": null,
      "outputs": [
        {
          "output_type": "stream",
          "name": "stdout",
          "text": [
            "jose\n",
            "ingenieria en computacion\n",
            " El conocimiento \n",
            "me persigue,....\n",
            "pero\n",
            "yo soy mas rapido\n",
            "\n",
            "<class 'str'>\n",
            "Perez\n"
          ]
        }
      ]
    }
  ]
}