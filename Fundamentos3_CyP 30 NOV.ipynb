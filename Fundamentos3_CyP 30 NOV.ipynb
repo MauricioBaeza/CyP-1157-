{
  "nbformat": 4,
  "nbformat_minor": 0,
  "metadata": {
    "colab": {
      "name": "Fundamentos3_CyP.ipynb",
      "provenance": []
    },
    "kernelspec": {
      "name": "python3",
      "display_name": "Python 3"
    },
    "language_info": {
      "name": "python"
    }
  },
  "cells": [
    {
      "cell_type": "markdown",
      "metadata": {
        "id": "l24Q-UDoFnvT"
      },
      "source": [
        "Repeticion:\n",
        "\n",
        "Este tipo de estructura nos permite automatizar la ejecución repetitiva de código mientas ciertas condiciones s cumplan, tenemos 3 variantes de esta estructura en todos los lenguajes de programación:\n",
        "\n",
        "- Desde...hasta (estructura for)\n",
        "- haz mientras (structura While)\n",
        "- haz y luego validaz mientras( estructura Do-While)\n",
        "\n",
        "# FOR con Python\n",
        "\n",
        "```\n",
        "for j in range (10):\n",
        "    print(f\"Hola { j }\")\n",
        "```\n",
        "\n",
        "# FOR con Leng C y/o Java\n",
        "```\n",
        "for(int j=0 ; j<10 ; j=j+1 ){\n",
        "    print(\"Hola %i \\n\", j );\n",
        "}\n",
        "```\n",
        "\n",
        "En todos los lenguajes de programacion existe un tipo especial de for, conocido como **for-each**\n",
        "\n",
        "# For-each en Python\n",
        "```\n",
        "for color in colores:\n",
        "    prin(f\"Este es el color {color}\")\n",
        "```\n"
      ]
    },
    {
      "cell_type": "code",
      "metadata": {
        "colab": {
          "base_uri": "https://localhost:8080/"
        },
        "id": "s-sb0c0jGqAh",
        "outputId": "a13608b1-658c-43ed-f207-304edc243d33"
      },
      "source": [
        "# funcion range ( )\n",
        "# ramge(<INICIO>,<STOP>,<INCREMENTO>)\n",
        "x = range(0,10,2)\n",
        "print(x)\n",
        "\n",
        "\n",
        "for j in range(10): # range(0,10) -->0,1,2,3,4,5,6,7,8,9\n",
        "    print(f\"Hola {j}\")\n",
        "\n",
        "print(\"-.-.-.-.-.-.-.-.-.-.\")\n",
        "for j in range(0,10,2): # range(0,10,2) -->0,2,4,6,8\n",
        "    print(f\"Hola {j}\")\n",
        "\n",
        "frutas = [\"Uva\",\"aguacate\",\"pera\",\"manzana\",\"sandia\"]\n",
        "\n",
        "print(frutas[0])\n",
        "print(frutas[1])\n",
        "print(frutas[2])\n",
        "print(frutas[3])\n",
        "print(frutas[4])\n",
        "\n",
        "print(\"---FRUTAS---\")\n",
        "for index in range(5):\n",
        "    print(frutas[index])"
      ],
      "execution_count": null,
      "outputs": [
        {
          "output_type": "stream",
          "name": "stdout",
          "text": [
            "range(0, 10, 2)\n",
            "Hola 0\n",
            "Hola 1\n",
            "Hola 2\n",
            "Hola 3\n",
            "Hola 4\n",
            "Hola 5\n",
            "Hola 6\n",
            "Hola 7\n",
            "Hola 8\n",
            "Hola 9\n",
            "-.-.-.-.-.-.-.-.-.-.\n",
            "Hola 0\n",
            "Hola 2\n",
            "Hola 4\n",
            "Hola 6\n",
            "Hola 8\n",
            "Uva\n",
            "aguacate\n",
            "pera\n",
            "manzana\n",
            "sandia\n",
            "---FRUTAS---\n",
            "Uva\n",
            "aguacate\n",
            "pera\n",
            "manzana\n",
            "sandia\n",
            "+\n",
            "+\n",
            "+\n",
            "+\n",
            "+\n",
            "+\n"
          ]
        }
      ]
    },
    {
      "cell_type": "code",
      "metadata": {
        "id": "k26vFA1CL3oo"
      },
      "source": [
        "for x in range(1, 20, 1):\n",
        "    print(x)\n",
        "print(\"---FIN DEL PROGRAMA---\")\n",
        "\n",
        "for x in range(19, 0,-1):\n",
        "    print(x)\n",
        "print(\"---FIN DEL PROGRAMA---\")\n"
      ],
      "execution_count": null,
      "outputs": []
    },
    {
      "cell_type": "code",
      "metadata": {
        "colab": {
          "base_uri": "https://localhost:8080/"
        },
        "id": "b4XFE-e4NyoQ",
        "outputId": "ca7789bb-d5bb-4600-9c96-390e887c46bc"
      },
      "source": [
        "# ejemplo 3.3\n",
        "CUECER = 0\n",
        "NUM = 0\n",
        "N = int(input(\"un valor numerico mayor que 1: \"))\n",
        "for I in range(1, N+1 ,1):\n",
        "    N = int(input(\"un valor numerico: \"))\n",
        "    if N == 0:\n",
        "        CUECER += 1\n",
        "\n",
        "print(\"CUECER=\",CUECER)"
      ],
      "execution_count": null,
      "outputs": [
        {
          "output_type": "stream",
          "name": "stdout",
          "text": [
            "un valor numerico mayor que 1: 4\n",
            "un valor numerico: 0\n",
            "un valor numerico: 0\n",
            "un valor numerico: 2\n",
            "un valor numerico: 2\n",
            "CUECER= 2\n"
          ]
        }
      ]
    },
    {
      "cell_type": "code",
      "metadata": {
        "colab": {
          "base_uri": "https://localhost:8080/"
        },
        "id": "MOibGJLHQtK4",
        "outputId": "890a153c-e157-427e-900f-dc15cc00c769"
      },
      "source": [
        "for i in range(1, 10):\n",
        "    print(f\"7 * {i} = \", 7*i)"
      ],
      "execution_count": null,
      "outputs": [
        {
          "output_type": "stream",
          "name": "stdout",
          "text": [
            "7 * 1 =  7\n",
            "7 * 2 =  14\n",
            "7 * 3 =  21\n",
            "7 * 4 =  28\n",
            "7 * 5 =  35\n",
            "7 * 6 =  42\n",
            "7 * 7 =  49\n",
            "7 * 8 =  56\n",
            "7 * 9 =  63\n"
          ]
        }
      ]
    },
    {
      "cell_type": "code",
      "metadata": {
        "colab": {
          "base_uri": "https://localhost:8080/"
        },
        "id": "kae-KGwOSPXX",
        "outputId": "6b19b611-7319-4441-f345-ef3c99b5dccc"
      },
      "source": [
        "n = int(input(\"dame un valor entre 1 y 5: \"))\n",
        "if n > 1 and N <= 5:\n",
        "    N = int(input(f\"dame un valor entre {n} y 10: \"))\n",
        "    if N >= n and N <= 10:\n",
        "        for i in range( n, N+1):\n",
        "            for j in range(1,11):\n",
        "                print(f\"{i} x {j} = \",i*j)\n",
        "            print(\"-------------\")\n",
        "else:\n",
        "    print(\"valor introducido incorrecto\")"
      ],
      "execution_count": null,
      "outputs": [
        {
          "output_type": "stream",
          "name": "stdout",
          "text": [
            "dame un valor entre 1 y 5: 4\n",
            "dame un valor entre 4 y 10: 6\n",
            "4 x 1 =  4\n",
            "4 x 2 =  8\n",
            "4 x 3 =  12\n",
            "4 x 4 =  16\n",
            "4 x 5 =  20\n",
            "4 x 6 =  24\n",
            "4 x 7 =  28\n",
            "4 x 8 =  32\n",
            "4 x 9 =  36\n",
            "4 x 10 =  40\n",
            "-------------\n",
            "5 x 1 =  5\n",
            "5 x 2 =  10\n",
            "5 x 3 =  15\n",
            "5 x 4 =  20\n",
            "5 x 5 =  25\n",
            "5 x 6 =  30\n",
            "5 x 7 =  35\n",
            "5 x 8 =  40\n",
            "5 x 9 =  45\n",
            "5 x 10 =  50\n",
            "-------------\n",
            "6 x 1 =  6\n",
            "6 x 2 =  12\n",
            "6 x 3 =  18\n",
            "6 x 4 =  24\n",
            "6 x 5 =  30\n",
            "6 x 6 =  36\n",
            "6 x 7 =  42\n",
            "6 x 8 =  48\n",
            "6 x 9 =  54\n",
            "6 x 10 =  60\n",
            "-------------\n"
          ]
        }
      ]
    },
    {
      "cell_type": "code",
      "metadata": {
        "colab": {
          "base_uri": "https://localhost:8080/"
        },
        "id": "e_apCYxiXW5u",
        "outputId": "f1c30560-8645-4915-cf3a-e01d4ee3eb20"
      },
      "source": [
        "# generadores de lista\n",
        "numeros = [0,0,0,0,0]\n",
        "print(numeros)\n",
        "numeros = [ 0 for x in range (5) ]\n",
        "print(numeros)\n",
        "#empleando la variable de control x para el valor inicial \n",
        "numeros = [(x+1)*10 for x in range(10)]\n",
        "print(numeros)\n",
        "print(\".-.-.-.-.-.-.\")\n",
        "numeros = [ x for x in range(10,101,10) ]\n",
        "print(numeros)\n",
        "print(\".-.-.-.-.-.-.\")\n",
        "numeros = [ x*10 for x in range (1,11) ]\n",
        "print(numeros)"
      ],
      "execution_count": null,
      "outputs": [
        {
          "output_type": "stream",
          "name": "stdout",
          "text": [
            "[0, 0, 0, 0, 0]\n",
            "[0, 0, 0, 0, 0]\n",
            "[10, 20, 30, 40, 50, 60, 70, 80, 90, 100]\n",
            ".-.-.-.-.-.-.\n",
            "[10, 20, 30, 40, 50, 60, 70, 80, 90, 100]\n",
            ".-.-.-.-.-.-.\n",
            "[10, 20, 30, 40, 50, 60, 70, 80, 90, 100]\n"
          ]
        }
      ]
    },
    {
      "cell_type": "code",
      "metadata": {
        "colab": {
          "base_uri": "https://localhost:8080/"
        },
        "id": "sBOdpaAhYRuf",
        "outputId": "110db839-f7e4-4377-aeac-89454e6991d1"
      },
      "source": [
        "# ejercicio calcular promedio de edades\n",
        "suma=0\n",
        "edades=[0 for x in range(5)]\n",
        "for x in range(5):\n",
        "    edades[x]=int(input(\"Dame una edad: \"))\n",
        "    suma=suma+edades[x]\n",
        "print(edades)\n",
        "print(suma)\n",
        "print(\"promedio: \", suma/5)\n"
      ],
      "execution_count": null,
      "outputs": [
        {
          "output_type": "stream",
          "name": "stdout",
          "text": [
            "Dame una edad: 10\n",
            "Dame una edad: 12\n",
            "Dame una edad: 15\n",
            "Dame una edad: 13\n",
            "Dame una edad: 10\n",
            "[10, 12, 15, 13, 10]\n",
            "60\n",
            "promedio:  12.0\n"
          ]
        }
      ]
    },
    {
      "cell_type": "code",
      "metadata": {
        "colab": {
          "base_uri": "https://localhost:8080/"
        },
        "id": "JMgW5phMcPNn",
        "outputId": "97a05337-b740-4ddd-b170-637de1813acf"
      },
      "source": [
        "import random\n",
        "print(random.random())\n",
        "print(random.uniform(5,11))\n",
        "val = round(random.uniform(5,11) , 2)\n",
        "print(val)\n",
        "\n",
        "valores = [round(random.uniform(5,11),2) for x in range(20)]\n",
        "print(valores)"
      ],
      "execution_count": null,
      "outputs": [
        {
          "output_type": "stream",
          "name": "stdout",
          "text": [
            "0.5186665652727622\n",
            "9.990282889454896\n",
            "10.81\n",
            "[9.87, 6.69, 8.11, 9.55, 8.29, 9.42, 6.14, 6.42, 9.16, 8.92, 10.53, 8.08, 5.18, 8.43, 9.52, 8.14, 6.61, 9.45, 6.68, 10.62]\n"
          ]
        }
      ]
    },
    {
      "cell_type": "markdown",
      "metadata": {
        "id": "jdStRcwP5087"
      },
      "source": [
        "###Estructura de control de repeticion Haz - Mientras (While)\n",
        "Una estructura de control haz-mientras nos permite ejecutar rapidamente mientras una condicion se siga cumpliendo. \n",
        "#Sintaxis \n",
        "```\n",
        "while <condicion>\n",
        "    <Bloque de sentencia a ejecutar rapidamente>\n",
        "<siguiente secuencia posterior a while>\n",
        "```\n",
        "# La diferencia principal con la estructura \"for\" es que con \"while\" no conces el numeros de ciclos a ejecutar, en for si se conoce.\n",
        "Hacer un programa que solicite un valor entero positivo y calcule repetidamente la mitad y se reasigne a la misma variable. El ciclo debe detener cuando el resultado sea menor que 1.\n",
        "mostrar en pantalla el resultado de cada calculo y al final el numero de interacciones que realizo.\n",
        "```\n",
        "Introduce un numero entero positivo: 17\n",
        "8.5\n",
        "4.25\n",
        "2.12\n",
        "1.06\n",
        "0.53\n",
        "Total de interacciones : 5\n",
        "```\n"
      ]
    },
    {
      "cell_type": "code",
      "metadata": {
        "colab": {
          "base_uri": "https://localhost:8080/"
        },
        "id": "51JvwOWE59k6",
        "outputId": "74e14585-3bba-4cfe-97bb-b0c0efafd719"
      },
      "source": [
        "valor = int(input(\"Introduce un numero entero positivo:\"))\n",
        "contador = 0\n",
        "if valor > 0:\n",
        "    while valor > 1.0 :\n",
        "        valor = valor /2\n",
        "        print( round(valor,2) )\n",
        "        contador += 1\n",
        "else:\n",
        "    print(\"El numero es negativo, intenta de nuevo\")\n",
        "print(\"Total de interacciones =\", contador)"
      ],
      "execution_count": 1,
      "outputs": [
        {
          "output_type": "stream",
          "name": "stdout",
          "text": [
            "Introduce un numero entero positivo:4\n",
            "2.0\n",
            "1.0\n",
            "Total de interacciones = 2\n"
          ]
        }
      ]
    },
    {
      "cell_type": "code",
      "metadata": {
        "colab": {
          "base_uri": "https://localhost:8080/"
        },
        "id": "c_IdwREl8l2y",
        "outputId": "d98108b6-b8bb-428f-adfc-5eb7858befd9"
      },
      "source": [
        "valor = int(input(\"Dame un valor entero: \"))\n",
        "\n",
        "while valor != 0:\n",
        "    print(valor)\n",
        "    valor = int(input(\"Dame un valor entero: \"))\n",
        "print(\"--FIN DEL PROGRAMA--\")"
      ],
      "execution_count": 6,
      "outputs": [
        {
          "output_type": "stream",
          "name": "stdout",
          "text": [
            "Dame un valor entero: 2\n",
            "2\n",
            "Dame un valor entero: 0\n",
            "--FIN DEL PROGRAMA--\n"
          ]
        }
      ]
    },
    {
      "cell_type": "code",
      "metadata": {
        "colab": {
          "base_uri": "https://localhost:8080/"
        },
        "id": "8wmFwnei9Ivi",
        "outputId": "10c17a14-ad03-468a-dcf1-0f71aa75899e"
      },
      "source": [
        "valor = int(input(\"Dame un valor entero: \"))\n",
        "\n",
        "while valor != 0:\n",
        "    print(valor)\n",
        "    print(\"Otras cosas\")\n",
        "print(\"Fin del programa\")"
      ],
      "execution_count": 8,
      "outputs": [
        {
          "output_type": "stream",
          "name": "stdout",
          "text": [
            "Dame un valor entero: 0\n",
            "Fin del programa\n"
          ]
        }
      ]
    },
    {
      "cell_type": "code",
      "metadata": {
        "colab": {
          "base_uri": "https://localhost:8080/"
        },
        "id": "KYTJ3KHu9vKp",
        "outputId": "e55889d0-285f-4fcd-d90e-e8538489776c"
      },
      "source": [
        "n = int(input(\"Ingrese un numero entero positivo:\"))\n",
        "\n",
        "if n > 0:\n",
        "    print(\"Correcto\")\n",
        "    for i in range(1, 11):\n",
        "        print( n, \"x\" , i , \"=\" , n*i)\n",
        "else:\n",
        "    print(\"El numero ingresado no es correcto\")"
      ],
      "execution_count": 18,
      "outputs": [
        {
          "output_type": "stream",
          "name": "stdout",
          "text": [
            "Ingrese un numero entero positivo:3\n",
            "Numero correcto\n",
            "3 x 1 = 3\n",
            "3 x 2 = 6\n",
            "3 x 3 = 9\n",
            "3 x 4 = 12\n",
            "3 x 5 = 15\n",
            "3 x 6 = 18\n",
            "3 x 7 = 21\n",
            "3 x 8 = 24\n",
            "3 x 9 = 27\n",
            "3 x 10 = 30\n"
          ]
        }
      ]
    },
    {
      "cell_type": "code",
      "metadata": {
        "colab": {
          "base_uri": "https://localhost:8080/"
        },
        "id": "42bPNcwsCDci",
        "outputId": "08f3e21c-b141-4589-98f1-fdaa02fe9e78"
      },
      "source": [
        "comprobar = True\n",
        "\n",
        "while comprobar == True:\n",
        "\n",
        "    n = int(input(\"Ingrese un numero entero positivo:\"))\n",
        "\n",
        "    if n > 0:\n",
        "\n",
        "        i=1 #se inicializa el valor en 1\n",
        "\n",
        "        while i < 11:\n",
        "            print(n,\"x\",i,\"=\",n*i)\n",
        "\n",
        "            i += 1 # i va a ser igual a la misma variable mas 1\n",
        "            \n",
        "        comprobar = False\n",
        "\n",
        "    else:\n",
        "        print(\"El numero ingresado no es correcto\")"
      ],
      "execution_count": 47,
      "outputs": [
        {
          "output_type": "stream",
          "name": "stdout",
          "text": [
            "Ingrese un numero entero positivo:2\n",
            "2 x 1 = 2\n",
            "2 x 2 = 4\n",
            "2 x 3 = 6\n",
            "2 x 4 = 8\n",
            "2 x 5 = 10\n",
            "2 x 6 = 12\n",
            "2 x 7 = 14\n",
            "2 x 8 = 16\n",
            "2 x 9 = 18\n",
            "2 x 10 = 20\n"
          ]
        }
      ]
    },
    {
      "cell_type": "code",
      "metadata": {
        "colab": {
          "base_uri": "https://localhost:8080/"
        },
        "id": "IaXaQNYgK3Wa",
        "outputId": "fa3bbcfc-9e73-48bd-cd62-363d865c6f67"
      },
      "source": [
        "n = int(input(\"Ingrese un numero entero positivo:\"))\n",
        "\n",
        "if n > 0:\n",
        "    resultado=0\n",
        "    for i in range (1, n+1):\n",
        "\n",
        "        resultado += (1/i)\n",
        "\n",
        "        print(\"El resultado de la serie es:\", resultado)\n",
        "else:\n",
        "    print(\"Numero incorrecto\")"
      ],
      "execution_count": 51,
      "outputs": [
        {
          "output_type": "stream",
          "name": "stdout",
          "text": [
            "Ingrese un numero entero positivo:10\n",
            "El resultado de la serie es: 1.0\n",
            "El resultado de la serie es: 1.5\n",
            "El resultado de la serie es: 1.8333333333333333\n",
            "El resultado de la serie es: 2.083333333333333\n",
            "El resultado de la serie es: 2.283333333333333\n",
            "El resultado de la serie es: 2.4499999999999997\n",
            "El resultado de la serie es: 2.5928571428571425\n",
            "El resultado de la serie es: 2.7178571428571425\n",
            "El resultado de la serie es: 2.8289682539682537\n",
            "El resultado de la serie es: 2.9289682539682538\n"
          ]
        }
      ]
    },
    {
      "cell_type": "code",
      "metadata": {
        "colab": {
          "base_uri": "https://localhost:8080/"
        },
        "id": "Q5qMt0i-MVXZ",
        "outputId": "174ce95a-e957-49c1-ce4a-1afa2b6cbe42"
      },
      "source": [
        "comprobar = True\n",
        "\n",
        "while comprobar == True:\n",
        "\n",
        "\n",
        "    n = int(input(\"Ingrese un numero entero positivo:\"))\n",
        "\n",
        "    if n > 0:\n",
        "        comprobar = False\n",
        "\n",
        "        resultado=0\n",
        "\n",
        "        for i in range (1, n+1):\n",
        "            resultado += (1/i)\n",
        "\n",
        "        print(\"El resultado de la serie es:\", resultado)\n",
        "    else:\n",
        "        print(\"Numero incorrecto\")"
      ],
      "execution_count": 53,
      "outputs": [
        {
          "output_type": "stream",
          "name": "stdout",
          "text": [
            "Ingrese un numero entero positivo:-5\n",
            "Numero incorrecto\n",
            "Ingrese un numero entero positivo:4\n",
            "El resultado de la serie es: 2.083333333333333\n"
          ]
        }
      ]
    }
  ]
}