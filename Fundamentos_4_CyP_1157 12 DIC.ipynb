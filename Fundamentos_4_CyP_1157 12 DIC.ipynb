{
  "nbformat": 4,
  "nbformat_minor": 0,
  "metadata": {
    "colab": {
      "name": "Fundamentos 4_CyP 1157.ipynb",
      "provenance": [],
      "collapsed_sections": []
    },
    "kernelspec": {
      "name": "python3",
      "display_name": "Python 3"
    },
    "language_info": {
      "name": "python"
    }
  },
  "cells": [
    {
      "cell_type": "markdown",
      "metadata": {
        "id": "j7Wu0DgGVLNS"
      },
      "source": [
        "Una funcion es una unidad de codigo reutilizable, ademas de ser un mecanismo para organizar codigo.\n",
        "\n",
        "La gran ventaja de emplear funciones es simplificar la programacion.\n",
        "\n",
        "### Estructura\n",
        "Una funcion puede tomar cualquier cantidad de parametros de entrada (de cualquier tipo) y retorna unicamente un solo valor.\n",
        "Un parametro de entrada es un valor que recibe la funcion para realizar sus operaciones.\n",
        "\n",
        "Con una funcion se pueden hacer 2 cosas:\n",
        "1. definirla\n",
        "2. invocarla(ejecutarla)\n",
        "\n",
        "La gran ventaja de tener una funcion declarada es que la podemos reutilizar "
      ]
    },
    {
      "cell_type": "markdown",
      "metadata": {
        "id": "yJ-JA_auUKZ_"
      },
      "source": [
        "# Modularidad (Funciones)"
      ]
    },
    {
      "cell_type": "code",
      "metadata": {
        "id": "npvYkIHRUD2W"
      },
      "source": [
        "def sumar( op1 , op2 ):\n",
        "    res = op1 + op2\n",
        "    return res"
      ],
      "execution_count": null,
      "outputs": []
    },
    {
      "cell_type": "code",
      "metadata": {
        "colab": {
          "base_uri": "https://localhost:8080/"
        },
        "id": "54cw2UXqYBjQ",
        "outputId": "e292608e-4432-4be3-be88-715c840cffa8"
      },
      "source": [
        "res = sumar( 2 , 5)\n",
        "print(res)\n",
        "res = sumar( 33 , 22)\n",
        "print(res)"
      ],
      "execution_count": null,
      "outputs": [
        {
          "output_type": "stream",
          "name": "stdout",
          "text": [
            "7\n",
            "55\n"
          ]
        }
      ]
    },
    {
      "cell_type": "code",
      "metadata": {
        "colab": {
          "base_uri": "https://localhost:8080/"
        },
        "id": "IU09y5NPZw8X",
        "outputId": "477f250f-fcbc-4193-b724-f2337c478222"
      },
      "source": [
        "print(\"hola\",\"Jesus\",sep=\"-\")"
      ],
      "execution_count": null,
      "outputs": [
        {
          "output_type": "stream",
          "name": "stdout",
          "text": [
            "hola-Jesus\n"
          ]
        }
      ]
    },
    {
      "cell_type": "code",
      "metadata": {
        "colab": {
          "base_uri": "https://localhost:8080/"
        },
        "id": "bDa2Hpt4aPVp",
        "outputId": "445fbf71-3224-4b91-bfcb-2f5f32f9dc83"
      },
      "source": [
        "def imprime_cuadro( ):\n",
        "    print(\"****\")\n",
        "    print(\"****\")\n",
        "    print(\"****\")\n",
        "    print(\"****\")\n",
        "    # return None\n",
        "imprime_cuadro( )"
      ],
      "execution_count": null,
      "outputs": [
        {
          "output_type": "stream",
          "name": "stdout",
          "text": [
            "****\n",
            "****\n",
            "****\n",
            "****\n"
          ]
        }
      ]
    },
    {
      "cell_type": "markdown",
      "metadata": {
        "id": "2nbZdCm2bJ4I"
      },
      "source": [
        "# Valor de retorno de una funcion\n",
        "regla de oro.- Una funcion siempre returna UN SOLO VALOR. Inclusive si ese valor es el vacio"
      ]
    },
    {
      "cell_type": "code",
      "metadata": {
        "id": "4lsN9QSMbVVI"
      },
      "source": [
        "# invocar sumar\n",
        "res = sumar(7 , 8)\n",
        "print(res)\n",
        "# invocar la funcion pintar cuadro\n",
        "res = imprime_cuadro( )\n",
        "print(res)\n"
      ],
      "execution_count": null,
      "outputs": []
    },
    {
      "cell_type": "markdown",
      "metadata": {
        "id": "Z3fo8llbdGvx"
      },
      "source": [
        "# La palabra reservada None de python\n",
        "Esta palabra reservada significa vacio, equivalente a la palabra reservada void del lenguaje c, c++ y Java.\n",
        "\n",
        "Se usa para indicar ya sea un return vacio o que se recibe como parametro un vacio."
      ]
    },
    {
      "cell_type": "code",
      "metadata": {
        "id": "_YiftgBDeBBp"
      },
      "source": [
        " # def es para definir una funcion en otro codigo pero se debe de cargar\n",
        " def multiplicar( valor , veces ) :\n",
        "    c = valor * veces\n",
        "    return c"
      ],
      "execution_count": null,
      "outputs": []
    },
    {
      "cell_type": "code",
      "metadata": {
        "colab": {
          "base_uri": "https://localhost:8080/"
        },
        "id": "PnmS3DGZeJI5",
        "outputId": "f42bc149-8a99-445a-e952-6de4e473eb47"
      },
      "source": [
        "res = multiplicar( 5 , 5 )\n",
        "print(res)"
      ],
      "execution_count": null,
      "outputs": [
        {
          "output_type": "stream",
          "name": "stdout",
          "text": [
            "25\n"
          ]
        }
      ]
    },
    {
      "cell_type": "code",
      "metadata": {
        "id": "LooP0zrWeyBy"
      },
      "source": [
        "def multiplicar( valor , veces ):\n",
        "    if valor == None:\n",
        "        c=-1\n",
        "    else:\n",
        "        c = valor * veces\n",
        "    return c"
      ],
      "execution_count": null,
      "outputs": []
    },
    {
      "cell_type": "code",
      "metadata": {
        "colab": {
          "base_uri": "https://localhost:8080/"
        },
        "id": "N2_YcmgkfBnI",
        "outputId": "da123132-04ab-4eeb-ddea-2091cae06aff"
      },
      "source": [
        "res = multiplicar( None, 5)\n",
        "print(res)"
      ],
      "execution_count": null,
      "outputs": [
        {
          "output_type": "stream",
          "name": "stdout",
          "text": [
            "-1\n"
          ]
        }
      ]
    },
    {
      "cell_type": "markdown",
      "metadata": {
        "id": "nPpFXZh8fjaZ"
      },
      "source": [
        "# Parametros y argumentos.\n",
        "Son conceptos relacionados y su diferencia esta centrada en el momento que se emplea en una funcion.\n",
        "\n",
        "Es decir en la funcion sumar de arriba, cuando se declara se le llama parametro y cuando se invoca se le llama argumento."
      ]
    },
    {
      "cell_type": "markdown",
      "metadata": {
        "id": "yVODuzBVf-gR"
      },
      "source": [
        "# Argumentos posicionales\n",
        "En python es posible determinar a que parametros estan dirigidos los argumentos, segun su posicion."
      ]
    },
    {
      "cell_type": "code",
      "metadata": {
        "id": "TZp0OI2MgrB5"
      },
      "source": [
        "def dividir( op1 , op2 ):\n",
        "    c = op1 / op2\n",
        "    return c"
      ],
      "execution_count": null,
      "outputs": []
    },
    {
      "cell_type": "code",
      "metadata": {
        "colab": {
          "base_uri": "https://localhost:8080/"
        },
        "id": "tTtqWiWVgz_K",
        "outputId": "384bd036-c4b2-4f5e-f0c7-45df3b6fe50b"
      },
      "source": [
        "num1 = 25\n",
        "num2 = 5\n",
        "res = dividir( num1 , num2)\n",
        "print(res)\n",
        "res = dividir( num2 , num1)\n",
        "print(res)"
      ],
      "execution_count": null,
      "outputs": [
        {
          "output_type": "stream",
          "name": "stdout",
          "text": [
            "5.0\n",
            "0.2\n"
          ]
        }
      ]
    },
    {
      "cell_type": "markdown",
      "metadata": {
        "id": "_FT9_ubyhWpR"
      },
      "source": [
        "# Argumentos con palabras clave (Keywords)\n",
        "\n",
        "Es la posibilidad de indicarle a la funcion en tiempo de ejecucion a que parametro va dirigido un argumento de entrada.\n",
        "\n"
      ]
    },
    {
      "cell_type": "code",
      "metadata": {
        "colab": {
          "base_uri": "https://localhost:8080/"
        },
        "id": "I1U1BLrHhtaZ",
        "outputId": "2445be63-4d37-4c6a-ec3f-c624570d7610"
      },
      "source": [
        "res = dividir( op2=num2 , op1=num1)\n",
        "print(res)"
      ],
      "execution_count": null,
      "outputs": [
        {
          "output_type": "stream",
          "name": "stdout",
          "text": [
            "5.0\n"
          ]
        }
      ]
    },
    {
      "cell_type": "code",
      "metadata": {
        "id": "tbQgTSo9ivOr"
      },
      "source": [
        "def letra_J( caracter ):\n",
        "    print(f\"   {caracter}\")\n",
        "    print(f\"   {caracter}\")\n",
        "    print(f\"   {caracter}\")\n",
        "    print(f\"   {caracter}\")\n",
        "    print(f\"{caracter}{caracter}{caracter}{caracter}\")"
      ],
      "execution_count": null,
      "outputs": []
    },
    {
      "cell_type": "code",
      "metadata": {
        "colab": {
          "base_uri": "https://localhost:8080/"
        },
        "id": "A6GAsBuxjSip",
        "outputId": "abbe35e8-1f2c-49d5-8052-ce2a2ce1becf"
      },
      "source": [
        "letra_J('J')"
      ],
      "execution_count": null,
      "outputs": [
        {
          "output_type": "stream",
          "name": "stdout",
          "text": [
            "   J\n",
            "   J\n",
            "   J\n",
            "   J\n",
            "JJJJ\n"
          ]
        }
      ]
    },
    {
      "cell_type": "markdown",
      "source": [
        "# Argumento por defecto\n",
        "\n",
        "Es la capacidad de las funciones de establecer un valor por defecto. (Default)\n",
        "\n",
        "Si no se envia un argumento a dicho parametro, entonces se asigna el que el programador asigno como _default_\n"
      ],
      "metadata": {
        "id": "7dOZdZag-H62"
      }
    },
    {
      "cell_type": "code",
      "source": [
        "def dividir( op1 , op2=2 ): # el valor por defecto se asigna  en la linea de codigo \"def\"\n",
        "    c = op1 / op2\n",
        "    return c\n",
        "\n",
        "print(dividir (25))"
      ],
      "metadata": {
        "colab": {
          "base_uri": "https://localhost:8080/"
        },
        "id": "tdYuYhLk-ayt",
        "outputId": "3cd76b0a-82f1-4179-8549-7a67fb38d4a4"
      },
      "execution_count": 6,
      "outputs": [
        {
          "output_type": "stream",
          "name": "stdout",
          "text": [
            "12.5\n"
          ]
        }
      ]
    },
    {
      "cell_type": "markdown",
      "source": [
        "Este concepto se puede simplificar con la funcion **print**"
      ],
      "metadata": {
        "id": "niydjb9n_KRQ"
      }
    },
    {
      "cell_type": "code",
      "source": [
        "help(print)"
      ],
      "metadata": {
        "colab": {
          "base_uri": "https://localhost:8080/"
        },
        "id": "wPancKCl-y12",
        "outputId": "8341ac68-79a8-4eae-d273-e529b914704b"
      },
      "execution_count": 7,
      "outputs": [
        {
          "output_type": "stream",
          "name": "stdout",
          "text": [
            "Help on built-in function print in module builtins:\n",
            "\n",
            "print(...)\n",
            "    print(value, ..., sep=' ', end='\\n', file=sys.stdout, flush=False)\n",
            "    \n",
            "    Prints the values to a stream, or to sys.stdout by default.\n",
            "    Optional keyword arguments:\n",
            "    file:  a file-like object (stream); defaults to the current sys.stdout.\n",
            "    sep:   string inserted between values, default a space.\n",
            "    end:   string appended after the last value, default a newline.\n",
            "    flush: whether to forcibly flush the stream.\n",
            "\n"
          ]
        }
      ]
    },
    {
      "cell_type": "code",
      "source": [
        "nombre = \"Jose\"\n",
        "edad = 18\n",
        "print(nombre,edad, sep=':)') # la \",\" agrega el espacio en la funcion print\n",
        "#al igual \"sep\" podemos ocuparla para que represente el espacio de la forma en que se lo asignemos \n",
        "print(\"hola\", end=\" \") #\"end\" por defecto es un salto de linea pero si le asignamos un valor ya no sera el salto de linea\n",
        "print(\"------\")"
      ],
      "metadata": {
        "colab": {
          "base_uri": "https://localhost:8080/"
        },
        "id": "q5R6_UKI_o7O",
        "outputId": "c27c4e28-926e-4f94-e316-50b0643d2bf6"
      },
      "execution_count": 12,
      "outputs": [
        {
          "output_type": "stream",
          "name": "stdout",
          "text": [
            "Jose:)18\n",
            "hola ------\n"
          ]
        }
      ]
    },
    {
      "cell_type": "markdown",
      "source": [
        "# Ejericio de Argumentos posicionales"
      ],
      "metadata": {
        "id": "8Q4ULar3AkKl"
      }
    },
    {
      "cell_type": "code",
      "source": [
        "def comanda(comensal1=1, primer=\"consome\", segundo=\"Arroz rojo\", tercero=\"Enchiladas\"):\n",
        "    print(f\"El comensal {comensal1} quiere:\")\n",
        "    print(\"\\t Entrada: \", primer)\n",
        "    print(\"\\t Medio: \", segundo)\n",
        "    print(\"\\t Plato fuerte: \", tercero)\n",
        "\n",
        "comanda()\n",
        "\n",
        "comanda(3,\"Ensalada\",\"Arroz blanco\",\"Esparragos al horno\")\n",
        "comanda(\"Arroz blanco\",\"Esparragos al horno\",\"Ensalada\",3)#Los argumentos tienen que estar en la posicion que queramos\n",
        "comanda(segundo=\"Arroz blanco\",tercero=\"Esparragos al horno\",primer=\"Ensalada\",comensal1=3)"
      ],
      "metadata": {
        "colab": {
          "base_uri": "https://localhost:8080/"
        },
        "id": "yg_U4KalAjw2",
        "outputId": "9025d694-6b76-4e61-b769-d52bbbd730be"
      },
      "execution_count": 40,
      "outputs": [
        {
          "output_type": "stream",
          "name": "stdout",
          "text": [
            "El comensal 1 quiere:\n",
            "\t Entrada:  consome\n",
            "\t Medio:  Arroz rojo\n",
            "\t Plato fuerte:  Enchiladas\n",
            "El comensal 3 quiere:\n",
            "\t Entrada:  Ensalada\n",
            "\t Medio:  Arroz blanco\n",
            "\t Plato fuerte:  Esparragos al horno\n",
            "El comensal Arroz blanco quiere:\n",
            "\t Entrada:  Esparragos al horno\n",
            "\t Medio:  Ensalada\n",
            "\t Plato fuerte:  3\n",
            "El comensal 3 quiere:\n",
            "\t Entrada:  Ensalada\n",
            "\t Medio:  Arroz blanco\n",
            "\t Plato fuerte:  Esparragos al horno\n"
          ]
        }
      ]
    },
    {
      "cell_type": "markdown",
      "source": [
        "# Argumentos enviados en un grupo en tupla.\n",
        "Esto sirve para enviar multiples argumentos a una funcion empleando el comodin *.\n",
        "\n",
        "```\n",
        "def mifun( args* ):\n",
        "    <cuerpo de la func>\n",
        "```"
      ],
      "metadata": {
        "id": "F2fxgRBIDiqF"
      }
    },
    {
      "cell_type": "code",
      "source": [
        "def comanda2( *opciones ):\n",
        "    #print( opciones )\n",
        "    print(f\"El comensal {opciones[0]} pidio:\")\n",
        "    print(\"\\tEntrada: \", opciones[1])\n",
        "    print(\"\\tSegundo: \", opciones[2])\n",
        "    print(\"\\tPlato fuerte: \", opciones[3])\n",
        "    print(\"indicaciones extra: \")\n",
        "    for instruccion in opciones[4::]:\n",
        "        print(\"\\n\", instruccion)\n",
        "\n",
        "comanda2(1 , \"Sopa de fideo\", \"Arroz\", \"Pechuga asada\",\"La arrachera que aun se mueva\", \"Postre Gelatina\")"
      ],
      "metadata": {
        "colab": {
          "base_uri": "https://localhost:8080/"
        },
        "id": "uiGAoWOjERr1",
        "outputId": "3d65cb32-d484-45e6-c46a-fd4a0705f4eb"
      },
      "execution_count": 51,
      "outputs": [
        {
          "output_type": "stream",
          "name": "stdout",
          "text": [
            "El comensal 1 pidio:\n",
            "\tEntrada:  Sopa de fideo\n",
            "\tSegundo:  Arroz\n",
            "\tPlato fuerte:  Pechuga asada\n",
            "indicaciones extra: \n",
            "\n",
            " La arrachera que aun se mueva\n",
            "\n",
            " Postre Gelatina\n"
          ]
        }
      ]
    },
    {
      "cell_type": "markdown",
      "source": [
        "# Argumentos enviados en grupo en un diccionario.\n",
        "Es el mismo concepto que el anterior pero se usa el comodin ** y se mapea a un diccionario."
      ],
      "metadata": {
        "id": "e2tjeVIyG1qF"
      }
    },
    {
      "cell_type": "code",
      "source": [
        "def comanda3( **opciones ):\n",
        "    ops = opciones.keys()\n",
        "    print(ops)# la funcion keys te regesa solo las llaves\n",
        "    for key in ops:\n",
        "        print(f\"{key} = {opciones[key]}\")\n",
        "\n",
        "comanda3(segundo=\"arroz blanco\",tercero=\"Esparragos al horno\",primer=\"Ensalada\",comensal=3)\n"
      ],
      "metadata": {
        "colab": {
          "base_uri": "https://localhost:8080/"
        },
        "id": "VNtK2Sc6HBZ0",
        "outputId": "88d9ff8f-e7ec-412b-9e86-1ae1172617e7"
      },
      "execution_count": 55,
      "outputs": [
        {
          "output_type": "stream",
          "name": "stdout",
          "text": [
            "dict_keys(['segundo', 'tercero', 'primer', 'comensal'])\n",
            "segundo = arroz blanco\n",
            "tercero = Esparragos al horno\n",
            "primer = Ensalada\n",
            "comensal = 3\n"
          ]
        }
      ]
    },
    {
      "cell_type": "code",
      "source": [
        "# modularidad y bibliotecas.\n",
        "Todos los lenguajes de programacion tienen la capacidad \n",
        "de compartir codigo entre la comunidad de programadores.\n",
        "\n",
        "Para ello cada lenguaje establece un mecanismo para escribir\n",
        "y compartir bibliotecas.\n"
      ],
      "metadata": {
        "id": "4alQ9_J6Jm_X"
      },
      "execution_count": null,
      "outputs": []
    },
    {
      "cell_type": "code",
      "source": [
        "!pip install simple_chalk"
      ],
      "metadata": {
        "id": "DtTyLhovMD4s"
      },
      "execution_count": null,
      "outputs": []
    },
    {
      "cell_type": "code",
      "source": [
        "from simple_chalk import chalk, yellow\n",
        "print(chalk.yellow(\"Hola en color amarillo\"))"
      ],
      "metadata": {
        "colab": {
          "base_uri": "https://localhost:8080/"
        },
        "id": "21JwsQHxKu-U",
        "outputId": "7d17902f-bfbd-4ed4-879a-bb462b26ce97"
      },
      "execution_count": 66,
      "outputs": [
        {
          "output_type": "stream",
          "name": "stdout",
          "text": [
            "\u001b[33mHola en color amarillo\u001b[0m\n"
          ]
        }
      ]
    },
    {
      "cell_type": "markdown",
      "source": [
        "# Como escribo un modulo (Biblioteca)?\n",
        "\n",
        "Se define en un archivo de biblioteca.\n"
      ],
      "metadata": {
        "id": "CouPBaIsO-or"
      }
    },
    {
      "cell_type": "code",
      "source": [
        "!cat mi_modulo.py"
      ],
      "metadata": {
        "colab": {
          "base_uri": "https://localhost:8080/"
        },
        "id": "HZQPsh53PRod",
        "outputId": "9a3d87f7-8eb3-446c-c0c1-875932821c3c"
      },
      "execution_count": 67,
      "outputs": [
        {
          "output_type": "stream",
          "name": "stdout",
          "text": [
            "def sumar( a , b ):\r\n",
            "    return a + b\r\n",
            "\r\n",
            "def mi_print( texto , final ):\r\n",
            "    print(\"Super:\", text , end=final)\r\n"
          ]
        }
      ]
    },
    {
      "cell_type": "code",
      "source": [
        "import mi_modulo\n",
        "\n",
        "res = mi_modulo.sumar( 7 , 5)\n",
        "print(res)\n",
        "\n",
        "mi_modulo.mi_print(\"Jesus\",\"\\n\")"
      ],
      "metadata": {
        "colab": {
          "base_uri": "https://localhost:8080/"
        },
        "id": "xxeqXH9dQo8T",
        "outputId": "f8c149b3-2dfc-4a12-d28e-96eb4e6ae1a0"
      },
      "execution_count": 1,
      "outputs": [
        {
          "output_type": "stream",
          "name": "stdout",
          "text": [
            "12\n",
            "Super: Jesus\n"
          ]
        }
      ]
    },
    {
      "cell_type": "code",
      "source": [
        "from mi_modulo import sumar #este comando se usa para traer una parte del modulo\n",
        "res = sumar( 5 , 3 )\n",
        "print( res )\n"
      ],
      "metadata": {
        "colab": {
          "base_uri": "https://localhost:8080/"
        },
        "id": "wLHxYcinR7Nc",
        "outputId": "564e43d5-882f-40c6-cf84-1ec115aae182"
      },
      "execution_count": 2,
      "outputs": [
        {
          "output_type": "stream",
          "name": "stdout",
          "text": [
            "8\n"
          ]
        }
      ]
    },
    {
      "cell_type": "markdown",
      "source": [
        "# Manejo de achivos con python\n",
        "\n",
        "- leer archivos\n",
        "- escribir en archivos\n",
        "- manipular la informacion leida desde un archivo\n",
        "- formatos de archivo"
      ],
      "metadata": {
        "id": "RpWh9to3SsKk"
      }
    },
    {
      "cell_type": "code",
      "source": [
        "archivo = open(\"salida.txt\" , \"wt\")\n",
        "archivo.write(\"Hola mundo\")\n",
        "archivo.close( )"
      ],
      "metadata": {
        "id": "5tFXvo3yS2TK"
      },
      "execution_count": 18,
      "outputs": []
    },
    {
      "cell_type": "code",
      "source": [
        "!cat salida.txt"
      ],
      "metadata": {
        "colab": {
          "base_uri": "https://localhost:8080/"
        },
        "id": "5nKddPoUTOSp",
        "outputId": "277a70a8-318d-4f81-e14f-cb5e10d7686a"
      },
      "execution_count": 19,
      "outputs": [
        {
          "output_type": "stream",
          "name": "stdout",
          "text": [
            "Hola mundo"
          ]
        }
      ]
    }
  ]
}