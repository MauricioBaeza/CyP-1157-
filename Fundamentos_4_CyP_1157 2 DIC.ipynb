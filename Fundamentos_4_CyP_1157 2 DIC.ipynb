{
  "nbformat": 4,
  "nbformat_minor": 0,
  "metadata": {
    "colab": {
      "name": "Fundamentos 4_CyP 1157.ipynb",
      "provenance": []
    },
    "kernelspec": {
      "name": "python3",
      "display_name": "Python 3"
    },
    "language_info": {
      "name": "python"
    }
  },
  "cells": [
    {
      "cell_type": "markdown",
      "metadata": {
        "id": "j7Wu0DgGVLNS"
      },
      "source": [
        "Una funcion es una unidad de codigo reutilizable, ademas de ser un mecanismo para organizar codigo.\n",
        "\n",
        "La gran ventaja de emplear funciones es simplificar la programacion.\n",
        "\n",
        "### Estructura\n",
        "Una funcion puede tomar cualquier cantidad de parametros de entrada (de cualquier tipo) y retorna unicamente un solo valor.\n",
        "Un parametro de entrada es un valor que recibe la funcion para realizar sus operaciones.\n",
        "\n",
        "Con una funcion se pueden hacer 2 cosas:\n",
        "1. definirla\n",
        "2. invocarla(ejecutarla)\n",
        "\n",
        "La gran ventaja de tener una funcion declarada es que la podemos reutilizar "
      ]
    },
    {
      "cell_type": "markdown",
      "metadata": {
        "id": "yJ-JA_auUKZ_"
      },
      "source": [
        "# Modularidad (Funciones)"
      ]
    },
    {
      "cell_type": "code",
      "metadata": {
        "id": "npvYkIHRUD2W"
      },
      "source": [
        "def sumar( op1 , op2 ):\n",
        "    res = op1 + op2\n",
        "    return res"
      ],
      "execution_count": 6,
      "outputs": []
    },
    {
      "cell_type": "code",
      "metadata": {
        "colab": {
          "base_uri": "https://localhost:8080/"
        },
        "id": "54cw2UXqYBjQ",
        "outputId": "e292608e-4432-4be3-be88-715c840cffa8"
      },
      "source": [
        "res = sumar( 2 , 5)\n",
        "print(res)\n",
        "res = sumar( 33 , 22)\n",
        "print(res)"
      ],
      "execution_count": 8,
      "outputs": [
        {
          "output_type": "stream",
          "name": "stdout",
          "text": [
            "7\n",
            "55\n"
          ]
        }
      ]
    },
    {
      "cell_type": "code",
      "metadata": {
        "colab": {
          "base_uri": "https://localhost:8080/"
        },
        "id": "IU09y5NPZw8X",
        "outputId": "477f250f-fcbc-4193-b724-f2337c478222"
      },
      "source": [
        "print(\"hola\",\"Jesus\",sep=\"-\")"
      ],
      "execution_count": 9,
      "outputs": [
        {
          "output_type": "stream",
          "name": "stdout",
          "text": [
            "hola-Jesus\n"
          ]
        }
      ]
    },
    {
      "cell_type": "code",
      "metadata": {
        "colab": {
          "base_uri": "https://localhost:8080/"
        },
        "id": "bDa2Hpt4aPVp",
        "outputId": "445fbf71-3224-4b91-bfcb-2f5f32f9dc83"
      },
      "source": [
        "def imprime_cuadro( ):\n",
        "    print(\"****\")\n",
        "    print(\"****\")\n",
        "    print(\"****\")\n",
        "    print(\"****\")\n",
        "    # return None\n",
        "imprime_cuadro( )"
      ],
      "execution_count": 13,
      "outputs": [
        {
          "output_type": "stream",
          "name": "stdout",
          "text": [
            "****\n",
            "****\n",
            "****\n",
            "****\n"
          ]
        }
      ]
    },
    {
      "cell_type": "markdown",
      "metadata": {
        "id": "2nbZdCm2bJ4I"
      },
      "source": [
        "# Valor de retorno de una funcion\n",
        "regla de oro.- Una funcion siempre returna UN SOLO VALOR. Inclusive si ese valor es el vacio"
      ]
    },
    {
      "cell_type": "code",
      "metadata": {
        "id": "4lsN9QSMbVVI"
      },
      "source": [
        "# invocar sumar\n",
        "res = sumar(7 , 8)\n",
        "print(res)\n",
        "# invocar la funcion pintar cuadro\n",
        "res = imprime_cuadro( )\n",
        "print(res)\n"
      ],
      "execution_count": null,
      "outputs": []
    },
    {
      "cell_type": "markdown",
      "metadata": {
        "id": "Z3fo8llbdGvx"
      },
      "source": [
        "# La palabra reservada None de python\n",
        "Esta palabra reservada significa vacio, equivalente a la palabra reservada void del lenguaje c, c++ y Java.\n",
        "\n",
        "Se usa para indicar ya sea un return vacio o que se recibe como parametro un vacio."
      ]
    },
    {
      "cell_type": "code",
      "metadata": {
        "id": "_YiftgBDeBBp"
      },
      "source": [
        " # def es para definir una funcion en otro codigo pero se debe de cargar\n",
        " def multiplicar( valor , veces ) :\n",
        "    c = valor * veces\n",
        "    return c"
      ],
      "execution_count": 30,
      "outputs": []
    },
    {
      "cell_type": "code",
      "metadata": {
        "colab": {
          "base_uri": "https://localhost:8080/"
        },
        "id": "PnmS3DGZeJI5",
        "outputId": "f42bc149-8a99-445a-e952-6de4e473eb47"
      },
      "source": [
        "res = multiplicar( 5 , 5 )\n",
        "print(res)"
      ],
      "execution_count": 22,
      "outputs": [
        {
          "output_type": "stream",
          "name": "stdout",
          "text": [
            "25\n"
          ]
        }
      ]
    },
    {
      "cell_type": "code",
      "metadata": {
        "id": "LooP0zrWeyBy"
      },
      "source": [
        "def multiplicar( valor , veces ):\n",
        "    if valor == None:\n",
        "        c=-1\n",
        "    else:\n",
        "        c = valor * veces\n",
        "    return c"
      ],
      "execution_count": 24,
      "outputs": []
    },
    {
      "cell_type": "code",
      "metadata": {
        "colab": {
          "base_uri": "https://localhost:8080/"
        },
        "id": "N2_YcmgkfBnI",
        "outputId": "da123132-04ab-4eeb-ddea-2091cae06aff"
      },
      "source": [
        "res = multiplicar( None, 5)\n",
        "print(res)"
      ],
      "execution_count": 25,
      "outputs": [
        {
          "output_type": "stream",
          "name": "stdout",
          "text": [
            "-1\n"
          ]
        }
      ]
    },
    {
      "cell_type": "markdown",
      "metadata": {
        "id": "nPpFXZh8fjaZ"
      },
      "source": [
        "# Parametros y argumentos.\n",
        "Son conceptos relacionados y su diferencia esta centrada en el momento que se emplea en una funcion.\n",
        "\n",
        "Es decir en la funcion sumar de arriba, cuando se declara se le llama parametro y cuando se invoca se le llama argumento."
      ]
    },
    {
      "cell_type": "markdown",
      "metadata": {
        "id": "yVODuzBVf-gR"
      },
      "source": [
        "# Argumentos posicionales\n",
        "En python es posible determinar a que parametros estan dirigidos los argumentos, segun su posicion."
      ]
    },
    {
      "cell_type": "code",
      "metadata": {
        "id": "TZp0OI2MgrB5"
      },
      "source": [
        "def dividir( op1 , op2 ):\n",
        "    c = op1 / op2\n",
        "    return c"
      ],
      "execution_count": 26,
      "outputs": []
    },
    {
      "cell_type": "code",
      "metadata": {
        "colab": {
          "base_uri": "https://localhost:8080/"
        },
        "id": "tTtqWiWVgz_K",
        "outputId": "384bd036-c4b2-4f5e-f0c7-45df3b6fe50b"
      },
      "source": [
        "num1 = 25\n",
        "num2 = 5\n",
        "res = dividir( num1 , num2)\n",
        "print(res)\n",
        "res = dividir( num2 , num1)\n",
        "print(res)"
      ],
      "execution_count": 28,
      "outputs": [
        {
          "output_type": "stream",
          "name": "stdout",
          "text": [
            "5.0\n",
            "0.2\n"
          ]
        }
      ]
    },
    {
      "cell_type": "markdown",
      "metadata": {
        "id": "_FT9_ubyhWpR"
      },
      "source": [
        "# Argumentos con palabras clave (Keywords)\n",
        "\n",
        "Es la posibilidad de indicarle a la funcion en tiempo de ejecucion a que parametro va dirigido un argumento de entrada.\n",
        "\n"
      ]
    },
    {
      "cell_type": "code",
      "metadata": {
        "colab": {
          "base_uri": "https://localhost:8080/"
        },
        "id": "I1U1BLrHhtaZ",
        "outputId": "2445be63-4d37-4c6a-ec3f-c624570d7610"
      },
      "source": [
        "res = dividir( op2=num2 , op1=num1)\n",
        "print(res)"
      ],
      "execution_count": 33,
      "outputs": [
        {
          "output_type": "stream",
          "name": "stdout",
          "text": [
            "5.0\n"
          ]
        }
      ]
    },
    {
      "cell_type": "code",
      "metadata": {
        "id": "tbQgTSo9ivOr"
      },
      "source": [
        "def letra_J( caracter ):\n",
        "    print(f\"   {caracter}\")\n",
        "    print(f\"   {caracter}\")\n",
        "    print(f\"   {caracter}\")\n",
        "    print(f\"   {caracter}\")\n",
        "    print(f\"{caracter}{caracter}{caracter}{caracter}\")"
      ],
      "execution_count": 42,
      "outputs": []
    },
    {
      "cell_type": "code",
      "metadata": {
        "colab": {
          "base_uri": "https://localhost:8080/"
        },
        "id": "A6GAsBuxjSip",
        "outputId": "abbe35e8-1f2c-49d5-8052-ce2a2ce1becf"
      },
      "source": [
        "letra_J('J')"
      ],
      "execution_count": 43,
      "outputs": [
        {
          "output_type": "stream",
          "name": "stdout",
          "text": [
            "   J\n",
            "   J\n",
            "   J\n",
            "   J\n",
            "JJJJ\n"
          ]
        }
      ]
    }
  ]
}