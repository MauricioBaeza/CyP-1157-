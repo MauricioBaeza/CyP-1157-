{
  "nbformat": 4,
  "nbformat_minor": 0,
  "metadata": {
    "colab": {
      "name": "Fundamentos3_CyP.ipynb",
      "provenance": []
    },
    "kernelspec": {
      "name": "python3",
      "display_name": "Python 3"
    },
    "language_info": {
      "name": "python"
    }
  },
  "cells": [
    {
      "cell_type": "markdown",
      "metadata": {
        "id": "l24Q-UDoFnvT"
      },
      "source": [
        "Repeticion:\n",
        "\n",
        "Este tipo de estructura nos permite automatizar la ejecución repetitiva de código mientas ciertas condiciones s cumplan, tenemos 3 variantes de esta estructura en todos los lenguajes de programación:\n",
        "\n",
        "- Desde...hasta (estructura for)\n",
        "- haz mientras (structura While)\n",
        "- haz y luego validaz mientras( estructura Do-While)\n",
        "\n",
        "# FOR con Python\n",
        "\n",
        "```\n",
        "for j in range (10):\n",
        "    print(f\"Hola { j }\")\n",
        "```\n",
        "\n",
        "# FOR con Leng C y/o Java\n",
        "```\n",
        "for(int j=0 ; j<10 ; j=j+1 ){\n",
        "    print(\"Hola %i \\n\", j );\n",
        "}\n",
        "```\n",
        "\n",
        "En todos los lenguajes de programacion existe un tipo especial de for, conocido como **for-each**\n",
        "\n",
        "# For-each en Python\n",
        "```\n",
        "for color in colores:\n",
        "    prin(f\"Este es el color {color}\")\n",
        "```\n"
      ]
    },
    {
      "cell_type": "code",
      "metadata": {
        "colab": {
          "base_uri": "https://localhost:8080/"
        },
        "id": "s-sb0c0jGqAh",
        "outputId": "a13608b1-658c-43ed-f207-304edc243d33"
      },
      "source": [
        "# funcion range ( )\n",
        "# ramge(<INICIO>,<STOP>,<INCREMENTO>)\n",
        "x = range(0,10,2)\n",
        "print(x)\n",
        "\n",
        "\n",
        "for j in range(10): # range(0,10) -->0,1,2,3,4,5,6,7,8,9\n",
        "    print(f\"Hola {j}\")\n",
        "\n",
        "print(\"-.-.-.-.-.-.-.-.-.-.\")\n",
        "for j in range(0,10,2): # range(0,10,2) -->0,2,4,6,8\n",
        "    print(f\"Hola {j}\")\n",
        "\n",
        "frutas = [\"Uva\",\"aguacate\",\"pera\",\"manzana\",\"sandia\"]\n",
        "\n",
        "print(frutas[0])\n",
        "print(frutas[1])\n",
        "print(frutas[2])\n",
        "print(frutas[3])\n",
        "print(frutas[4])\n",
        "\n",
        "print(\"---FRUTAS---\")\n",
        "for index in range(5):\n",
        "    print(frutas[index])"
      ],
      "execution_count": null,
      "outputs": [
        {
          "output_type": "stream",
          "name": "stdout",
          "text": [
            "range(0, 10, 2)\n",
            "Hola 0\n",
            "Hola 1\n",
            "Hola 2\n",
            "Hola 3\n",
            "Hola 4\n",
            "Hola 5\n",
            "Hola 6\n",
            "Hola 7\n",
            "Hola 8\n",
            "Hola 9\n",
            "-.-.-.-.-.-.-.-.-.-.\n",
            "Hola 0\n",
            "Hola 2\n",
            "Hola 4\n",
            "Hola 6\n",
            "Hola 8\n",
            "Uva\n",
            "aguacate\n",
            "pera\n",
            "manzana\n",
            "sandia\n",
            "---FRUTAS---\n",
            "Uva\n",
            "aguacate\n",
            "pera\n",
            "manzana\n",
            "sandia\n",
            "+\n",
            "+\n",
            "+\n",
            "+\n",
            "+\n",
            "+\n"
          ]
        }
      ]
    },
    {
      "cell_type": "code",
      "metadata": {
        "id": "k26vFA1CL3oo"
      },
      "source": [
        "for x in range(1, 20, 1):\n",
        "    print(x)\n",
        "print(\"---FIN DEL PROGRAMA---\")\n",
        "\n",
        "for x in range(19, 0,-1):\n",
        "    print(x)\n",
        "print(\"---FIN DEL PROGRAMA---\")\n"
      ],
      "execution_count": null,
      "outputs": []
    },
    {
      "cell_type": "code",
      "metadata": {
        "colab": {
          "base_uri": "https://localhost:8080/"
        },
        "id": "b4XFE-e4NyoQ",
        "outputId": "ca7789bb-d5bb-4600-9c96-390e887c46bc"
      },
      "source": [
        "# ejemplo 3.3\n",
        "CUECER = 0\n",
        "NUM = 0\n",
        "N = int(input(\"un valor numerico mayor que 1: \"))\n",
        "for I in range(1, N+1 ,1):\n",
        "    N = int(input(\"un valor numerico: \"))\n",
        "    if N == 0:\n",
        "        CUECER += 1\n",
        "\n",
        "print(\"CUECER=\",CUECER)"
      ],
      "execution_count": 11,
      "outputs": [
        {
          "output_type": "stream",
          "name": "stdout",
          "text": [
            "un valor numerico mayor que 1: 4\n",
            "un valor numerico: 0\n",
            "un valor numerico: 0\n",
            "un valor numerico: 2\n",
            "un valor numerico: 2\n",
            "CUECER= 2\n"
          ]
        }
      ]
    },
    {
      "cell_type": "code",
      "metadata": {
        "colab": {
          "base_uri": "https://localhost:8080/"
        },
        "id": "MOibGJLHQtK4",
        "outputId": "890a153c-e157-427e-900f-dc15cc00c769"
      },
      "source": [
        "for i in range(1, 10):\n",
        "    print(f\"7 * {i} = \", 7*i)"
      ],
      "execution_count": 15,
      "outputs": [
        {
          "output_type": "stream",
          "name": "stdout",
          "text": [
            "7 * 1 =  7\n",
            "7 * 2 =  14\n",
            "7 * 3 =  21\n",
            "7 * 4 =  28\n",
            "7 * 5 =  35\n",
            "7 * 6 =  42\n",
            "7 * 7 =  49\n",
            "7 * 8 =  56\n",
            "7 * 9 =  63\n"
          ]
        }
      ]
    },
    {
      "cell_type": "code",
      "metadata": {
        "colab": {
          "base_uri": "https://localhost:8080/"
        },
        "id": "kae-KGwOSPXX",
        "outputId": "6b19b611-7319-4441-f345-ef3c99b5dccc"
      },
      "source": [
        "n = int(input(\"dame un valor entre 1 y 5: \"))\n",
        "if n > 1 and N <= 5:\n",
        "    N = int(input(f\"dame un valor entre {n} y 10: \"))\n",
        "    if N >= n and N <= 10:\n",
        "        for i in range( n, N+1):\n",
        "            for j in range(1,11):\n",
        "                print(f\"{i} x {j} = \",i*j)\n",
        "            print(\"-------------\")\n",
        "else:\n",
        "    print(\"valor introducido incorrecto\")"
      ],
      "execution_count": 36,
      "outputs": [
        {
          "output_type": "stream",
          "name": "stdout",
          "text": [
            "dame un valor entre 1 y 5: 4\n",
            "dame un valor entre 4 y 10: 6\n",
            "4 x 1 =  4\n",
            "4 x 2 =  8\n",
            "4 x 3 =  12\n",
            "4 x 4 =  16\n",
            "4 x 5 =  20\n",
            "4 x 6 =  24\n",
            "4 x 7 =  28\n",
            "4 x 8 =  32\n",
            "4 x 9 =  36\n",
            "4 x 10 =  40\n",
            "-------------\n",
            "5 x 1 =  5\n",
            "5 x 2 =  10\n",
            "5 x 3 =  15\n",
            "5 x 4 =  20\n",
            "5 x 5 =  25\n",
            "5 x 6 =  30\n",
            "5 x 7 =  35\n",
            "5 x 8 =  40\n",
            "5 x 9 =  45\n",
            "5 x 10 =  50\n",
            "-------------\n",
            "6 x 1 =  6\n",
            "6 x 2 =  12\n",
            "6 x 3 =  18\n",
            "6 x 4 =  24\n",
            "6 x 5 =  30\n",
            "6 x 6 =  36\n",
            "6 x 7 =  42\n",
            "6 x 8 =  48\n",
            "6 x 9 =  54\n",
            "6 x 10 =  60\n",
            "-------------\n"
          ]
        }
      ]
    },
    {
      "cell_type": "code",
      "metadata": {
        "colab": {
          "base_uri": "https://localhost:8080/"
        },
        "id": "e_apCYxiXW5u",
        "outputId": "f1c30560-8645-4915-cf3a-e01d4ee3eb20"
      },
      "source": [
        "# generadores de lista\n",
        "numeros = [0,0,0,0,0]\n",
        "print(numeros)\n",
        "numeros = [ 0 for x in range (5) ]\n",
        "print(numeros)\n",
        "#empleando la variable de control x para el valor inicial \n",
        "numeros = [(x+1)*10 for x in range(10)]\n",
        "print(numeros)\n",
        "print(\".-.-.-.-.-.-.\")\n",
        "numeros = [ x for x in range(10,101,10) ]\n",
        "print(numeros)\n",
        "print(\".-.-.-.-.-.-.\")\n",
        "numeros = [ x*10 for x in range (1,11) ]\n",
        "print(numeros)"
      ],
      "execution_count": 40,
      "outputs": [
        {
          "output_type": "stream",
          "name": "stdout",
          "text": [
            "[0, 0, 0, 0, 0]\n",
            "[0, 0, 0, 0, 0]\n",
            "[10, 20, 30, 40, 50, 60, 70, 80, 90, 100]\n",
            ".-.-.-.-.-.-.\n",
            "[10, 20, 30, 40, 50, 60, 70, 80, 90, 100]\n",
            ".-.-.-.-.-.-.\n",
            "[10, 20, 30, 40, 50, 60, 70, 80, 90, 100]\n"
          ]
        }
      ]
    },
    {
      "cell_type": "code",
      "metadata": {
        "colab": {
          "base_uri": "https://localhost:8080/"
        },
        "id": "sBOdpaAhYRuf",
        "outputId": "110db839-f7e4-4377-aeac-89454e6991d1"
      },
      "source": [
        "# ejercicio calcular promedio de edades\n",
        "suma=0\n",
        "edades=[0 for x in range(5)]\n",
        "for x in range(5):\n",
        "    edades[x]=int(input(\"Dame una edad: \"))\n",
        "    suma=suma+edades[x]\n",
        "print(edades)\n",
        "print(suma)\n",
        "print(\"promedio: \", suma/5)\n"
      ],
      "execution_count": 45,
      "outputs": [
        {
          "output_type": "stream",
          "name": "stdout",
          "text": [
            "Dame una edad: 10\n",
            "Dame una edad: 12\n",
            "Dame una edad: 15\n",
            "Dame una edad: 13\n",
            "Dame una edad: 10\n",
            "[10, 12, 15, 13, 10]\n",
            "60\n",
            "promedio:  12.0\n"
          ]
        }
      ]
    },
    {
      "cell_type": "code",
      "metadata": {
        "colab": {
          "base_uri": "https://localhost:8080/"
        },
        "id": "JMgW5phMcPNn",
        "outputId": "97a05337-b740-4ddd-b170-637de1813acf"
      },
      "source": [
        "import random\n",
        "print(random.random())\n",
        "print(random.uniform(5,11))\n",
        "val = round(random.uniform(5,11) , 2)\n",
        "print(val)\n",
        "\n",
        "valores = [round(random.uniform(5,11),2) for x in range(20)]\n",
        "print(valores)"
      ],
      "execution_count": 50,
      "outputs": [
        {
          "output_type": "stream",
          "name": "stdout",
          "text": [
            "0.5186665652727622\n",
            "9.990282889454896\n",
            "10.81\n",
            "[9.87, 6.69, 8.11, 9.55, 8.29, 9.42, 6.14, 6.42, 9.16, 8.92, 10.53, 8.08, 5.18, 8.43, 9.52, 8.14, 6.61, 9.45, 6.68, 10.62]\n"
          ]
        }
      ]
    }
  ]
}